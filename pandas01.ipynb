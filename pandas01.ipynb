{
  "nbformat": 4,
  "nbformat_minor": 0,
  "metadata": {
    "colab": {
      "name": "Untitled0.ipynb",
      "provenance": [],
      "collapsed_sections": [],
      "authorship_tag": "ABX9TyOosS4D6KhFxMgmvFPf24Yu",
      "include_colab_link": true
    },
    "kernelspec": {
      "name": "python3",
      "display_name": "Python 3"
    },
    "language_info": {
      "name": "python"
    }
  },
  "cells": [
    {
      "cell_type": "markdown",
      "metadata": {
        "id": "view-in-github",
        "colab_type": "text"
      },
      "source": [
        "<a href=\"https://colab.research.google.com/github/jo-gunhee/Data_analysis/blob/master/pandas01.ipynb\" target=\"_parent\"><img src=\"https://colab.research.google.com/assets/colab-badge.svg\" alt=\"Open In Colab\"/></a>"
      ]
    },
    {
      "cell_type": "code",
      "metadata": {
        "colab": {
          "base_uri": "https://localhost:8080/",
          "height": 160
        },
        "id": "G4DNJuwxZa5R",
        "outputId": "2c89aeb7-57fa-413b-a6eb-8245039d084a"
      },
      "source": [
        "import xml.etree.ElementTree as ET\n",
        "import pandas as pd\n",
        "\n",
        "names = []\n",
        "gdp=[]\n",
        "\n",
        "tree = ET.parse('country_data.xml')\n",
        "root = tree.getroot()\n",
        "\n",
        "for country in root.findall('country'):\n",
        "\tname = country.get('name')\n",
        "\tnames.append(name)\n",
        "\tgd = country.find('gdppc').text\n",
        "\tgdp.append(gd)\n",
        "print(names,gdp)\n",
        "\n",
        "country_gdp =pd.DataFrame(names,columns=['name'])\n",
        "country_gdp['gdp'] = gdp\n",
        "country_gdp.head(3)"
      ],
      "execution_count": null,
      "outputs": [
        {
          "output_type": "stream",
          "text": [
            "['Liechtenstein', 'Singapore', 'Panama'] ['141100', '59900', '13600']\n"
          ],
          "name": "stdout"
        },
        {
          "output_type": "execute_result",
          "data": {
            "text/html": [
              "<div>\n",
              "<style scoped>\n",
              "    .dataframe tbody tr th:only-of-type {\n",
              "        vertical-align: middle;\n",
              "    }\n",
              "\n",
              "    .dataframe tbody tr th {\n",
              "        vertical-align: top;\n",
              "    }\n",
              "\n",
              "    .dataframe thead th {\n",
              "        text-align: right;\n",
              "    }\n",
              "</style>\n",
              "<table border=\"1\" class=\"dataframe\">\n",
              "  <thead>\n",
              "    <tr style=\"text-align: right;\">\n",
              "      <th></th>\n",
              "      <th>name</th>\n",
              "      <th>gdp</th>\n",
              "    </tr>\n",
              "  </thead>\n",
              "  <tbody>\n",
              "    <tr>\n",
              "      <th>0</th>\n",
              "      <td>Liechtenstein</td>\n",
              "      <td>141100</td>\n",
              "    </tr>\n",
              "    <tr>\n",
              "      <th>1</th>\n",
              "      <td>Singapore</td>\n",
              "      <td>59900</td>\n",
              "    </tr>\n",
              "    <tr>\n",
              "      <th>2</th>\n",
              "      <td>Panama</td>\n",
              "      <td>13600</td>\n",
              "    </tr>\n",
              "  </tbody>\n",
              "</table>\n",
              "</div>"
            ],
            "text/plain": [
              "            name     gdp\n",
              "0  Liechtenstein  141100\n",
              "1      Singapore   59900\n",
              "2         Panama   13600"
            ]
          },
          "metadata": {
            "tags": []
          },
          "execution_count": 2
        }
      ]
    },
    {
      "cell_type": "code",
      "metadata": {
        "colab": {
          "base_uri": "https://localhost:8080/",
          "height": 1000
        },
        "id": "cNoH-mDQXrJb",
        "outputId": "93768884-915e-40ff-feb2-cd09cddd6763"
      },
      "source": [
        "#part 1\n",
        "import pandas as pd\n",
        "import matplotlib.pyplot as plt\n",
        "\n",
        "#part 2\n",
        "missing = [\"n/a\",\"na\",\".\"]\n",
        "df = pd.read_csv('property_data_new.csv',na_values=missing)\n",
        "\n",
        "#part 3\n",
        "print(\"\\n\\npart 3 :\")\n",
        "df[\"ST_NUM\"].fillna(120,inplace=True)\n",
        "print(df[\"ST_NUM\"])\n",
        "\n",
        "#part 4\n",
        "print(\"\\n\\npart 4 :\")\n",
        "print(df.describe())\n",
        "\n",
        "#part 5\n",
        "print(\"\\n\\npart 5:\")\n",
        "df[\"NUM_BEDROOMS\"].fillna(df[\"NUM_BEDROOMS\"].median(),inplace=True)\n",
        "print(df[\"NUM_BEDROOMS\"])\n",
        "\n",
        "#part 6\n",
        "print(\"\\n\\npart 6 :\")\n",
        "print(df.describe())\n",
        "\n",
        "#part 7\n",
        "print(\"\\n\\npart 7 :\")\n",
        "df2 = pd.DataFrame(data = df[\"ST_NUM\"])\n",
        "df2.insert(1,\"NUM_BEDROOMS\",df[\"NUM_BEDROOMS\"])\n",
        "df2.insert(2,\"NUM_BATH\",df[\"NUM_BATH\"])\n",
        "df2.insert(3,\"SQ_FT\",df[\"SQ_FT\"])\n",
        "print(df2)\n",
        "\n",
        "#part 8\n",
        "print(\"\\n\\npart 8 :\")\n",
        "df2.plot(kind='box', subplots=True, layout=(3,3), sharex=False, sharey=False)\n",
        "plt.show()\n"
      ],
      "execution_count": 42,
      "outputs": [
        {
          "output_type": "stream",
          "text": [
            "\n",
            "\n",
            "part 3 :\n",
            "0    104.0\n",
            "1    197.0\n",
            "2    120.0\n",
            "3    201.0\n",
            "4    203.0\n",
            "5    207.0\n",
            "6    120.0\n",
            "7    213.0\n",
            "8    215.0\n",
            "Name: ST_NUM, dtype: float64\n",
            "\n",
            "\n",
            "part 4 :\n",
            "                PID      ST_NUM  NUM_BEDROOMS  NUM_BATH\n",
            "count  8.000000e+00    9.000000      6.000000  8.000000\n",
            "mean   1.000050e+08  175.555556      2.166667  1.562500\n",
            "std    2.927700e+03   46.233405      0.983192  0.728869\n",
            "min    1.000010e+08  104.000000      1.000000  1.000000\n",
            "25%    1.000028e+08  120.000000      1.250000  1.000000\n",
            "50%    1.000050e+08  201.000000      2.500000  1.250000\n",
            "75%    1.000072e+08  207.000000      3.000000  2.000000\n",
            "max    1.000090e+08  215.000000      3.000000  3.000000\n",
            "\n",
            "\n",
            "part 5:\n",
            "0    3.0\n",
            "1    3.0\n",
            "2    2.5\n",
            "3    1.0\n",
            "4    3.0\n",
            "5    2.5\n",
            "6    2.0\n",
            "7    1.0\n",
            "8    2.5\n",
            "Name: NUM_BEDROOMS, dtype: float64\n",
            "\n",
            "\n",
            "part 6 :\n",
            "                PID      ST_NUM  NUM_BEDROOMS  NUM_BATH\n",
            "count  8.000000e+00    9.000000      9.000000  8.000000\n",
            "mean   1.000050e+08  175.555556      2.277778  1.562500\n",
            "std    2.927700e+03   46.233405      0.794949  0.728869\n",
            "min    1.000010e+08  104.000000      1.000000  1.000000\n",
            "25%    1.000028e+08  120.000000      2.000000  1.000000\n",
            "50%    1.000050e+08  201.000000      2.500000  1.250000\n",
            "75%    1.000072e+08  207.000000      3.000000  2.000000\n",
            "max    1.000090e+08  215.000000      3.000000  3.000000\n",
            "\n",
            "\n",
            "part 7 :\n",
            "   ST_NUM  NUM_BEDROOMS  NUM_BATH SQ_FT\n",
            "0   104.0           3.0       1.0  1000\n",
            "1   197.0           3.0       1.5     :\n",
            "2   120.0           2.5       1.0   850\n",
            "3   201.0           1.0       NaN   700\n",
            "4   203.0           3.0       2.0  1600\n",
            "5   207.0           2.5       1.0   800\n",
            "6   120.0           2.0       3.0   950\n",
            "7   213.0           1.0       1.0   NaN\n",
            "8   215.0           2.5       2.0  1800\n",
            "\n",
            "\n",
            "part 8 :\n"
          ],
          "name": "stdout"
        },
        {
          "output_type": "display_data",
          "data": {
            "image/png": "[encoded data removed]",
            "text/plain": [
              "<Figure size 432x288 with 9 Axes>"
            ]
          },
          "metadata": {
            "tags": [],
            "needs_background": "light"
          }
        }
      ]
    }
  ]
}